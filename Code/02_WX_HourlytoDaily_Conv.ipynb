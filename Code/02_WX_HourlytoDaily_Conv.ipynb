{
 "cells": [
  {
   "cell_type": "code",
   "execution_count": 2,
   "id": "f15eebf8-dc3a-40a2-bc28-b48a0f1eadd2",
   "metadata": {},
   "outputs": [],
   "source": [
    "# Import the necessary packages\n",
    "import pandas as pd\n",
    "from pandas import read_csv\n",
    "from matplotlib import pyplot\n",
    "from pandas.plotting import lag_plot\n",
    "from pandas import DataFrame\n",
    "from pandas import concat\n",
    "from pandas.plotting import autocorrelation_plot\n",
    "from statsmodels.graphics.tsaplots import plot_acf\n",
    "from sklearn.metrics import mean_squared_error\n",
    "from statsmodels.tsa.ar_model import AutoReg\n",
    "from math import sqrt\n",
    "import numpy as np\n",
    "import seaborn as sns\n",
    "import os"
   ]
  },
  {
   "cell_type": "code",
   "execution_count": 3,
   "id": "ca8d9b21-6b2f-4284-b6d2-134a904d081f",
   "metadata": {},
   "outputs": [],
   "source": [
    "# Set the working directory for where the AWS data is stored\n",
    "os.chdir('/Users/f67f911/Desktop/Hourglass_WX/Data')"
   ]
  },
  {
   "cell_type": "code",
   "execution_count": 67,
   "id": "1f1a3042-43bd-4cb6-845e-a650b94df0da",
   "metadata": {},
   "outputs": [
    {
     "data": {
      "text/html": [
       "<div>\n",
       "<style scoped>\n",
       "    .dataframe tbody tr th:only-of-type {\n",
       "        vertical-align: middle;\n",
       "    }\n",
       "\n",
       "    .dataframe tbody tr th {\n",
       "        vertical-align: top;\n",
       "    }\n",
       "\n",
       "    .dataframe thead th {\n",
       "        text-align: right;\n",
       "    }\n",
       "</style>\n",
       "<table border=\"1\" class=\"dataframe\">\n",
       "  <thead>\n",
       "    <tr style=\"text-align: right;\">\n",
       "      <th></th>\n",
       "      <th>Timestamp</th>\n",
       "      <th>SnowDepth_m</th>\n",
       "    </tr>\n",
       "  </thead>\n",
       "  <tbody>\n",
       "    <tr>\n",
       "      <th>1</th>\n",
       "      <td>2021-01-14 15:00:00</td>\n",
       "      <td>0.957</td>\n",
       "    </tr>\n",
       "    <tr>\n",
       "      <th>2</th>\n",
       "      <td>2021-01-14 16:00:00</td>\n",
       "      <td>0.959</td>\n",
       "    </tr>\n",
       "    <tr>\n",
       "      <th>3</th>\n",
       "      <td>2021-01-14 17:00:00</td>\n",
       "      <td>0.958</td>\n",
       "    </tr>\n",
       "    <tr>\n",
       "      <th>4</th>\n",
       "      <td>2021-01-14 18:00:00</td>\n",
       "      <td>0.953</td>\n",
       "    </tr>\n",
       "    <tr>\n",
       "      <th>5</th>\n",
       "      <td>2021-01-14 19:00:00</td>\n",
       "      <td>0.951</td>\n",
       "    </tr>\n",
       "  </tbody>\n",
       "</table>\n",
       "</div>"
      ],
      "text/plain": [
       "             Timestamp  SnowDepth_m\n",
       "1  2021-01-14 15:00:00        0.957\n",
       "2  2021-01-14 16:00:00        0.959\n",
       "3  2021-01-14 17:00:00        0.958\n",
       "4  2021-01-14 18:00:00        0.953\n",
       "5  2021-01-14 19:00:00        0.951"
      ]
     },
     "execution_count": 67,
     "metadata": {},
     "output_type": "execute_result"
    }
   ],
   "source": [
    "hourly = read_csv('Cleaned/hg_hourly_snowDepth.csv', header=0, index_col=0)\n",
    "hourly.head()"
   ]
  },
  {
   "cell_type": "code",
   "execution_count": 68,
   "id": "03f2e24d-ac68-4a60-af2e-c4db26161afc",
   "metadata": {},
   "outputs": [],
   "source": [
    "# First, we need to filter to ONLY include our field season\n",
    "season_start = '2021-10-01'\n",
    "season_end = '2022-06-31'"
   ]
  },
  {
   "cell_type": "code",
   "execution_count": 69,
   "id": "9107f1c5-51ca-49cc-987c-1637b1522a65",
   "metadata": {},
   "outputs": [
    {
     "data": {
      "text/html": [
       "<div>\n",
       "<style scoped>\n",
       "    .dataframe tbody tr th:only-of-type {\n",
       "        vertical-align: middle;\n",
       "    }\n",
       "\n",
       "    .dataframe tbody tr th {\n",
       "        vertical-align: top;\n",
       "    }\n",
       "\n",
       "    .dataframe thead th {\n",
       "        text-align: right;\n",
       "    }\n",
       "</style>\n",
       "<table border=\"1\" class=\"dataframe\">\n",
       "  <thead>\n",
       "    <tr style=\"text-align: right;\">\n",
       "      <th></th>\n",
       "      <th>Timestamp</th>\n",
       "      <th>SnowDepth_m</th>\n",
       "    </tr>\n",
       "  </thead>\n",
       "  <tbody>\n",
       "    <tr>\n",
       "      <th>6226</th>\n",
       "      <td>2021-10-01 00:00:00</td>\n",
       "      <td>0.584</td>\n",
       "    </tr>\n",
       "    <tr>\n",
       "      <th>6227</th>\n",
       "      <td>2021-10-01 01:00:00</td>\n",
       "      <td>0.579</td>\n",
       "    </tr>\n",
       "    <tr>\n",
       "      <th>6228</th>\n",
       "      <td>2021-10-01 02:00:00</td>\n",
       "      <td>0.591</td>\n",
       "    </tr>\n",
       "    <tr>\n",
       "      <th>6229</th>\n",
       "      <td>2021-10-01 03:00:00</td>\n",
       "      <td>0.585</td>\n",
       "    </tr>\n",
       "    <tr>\n",
       "      <th>6230</th>\n",
       "      <td>2021-10-01 04:00:00</td>\n",
       "      <td>0.524</td>\n",
       "    </tr>\n",
       "  </tbody>\n",
       "</table>\n",
       "</div>"
      ],
      "text/plain": [
       "                Timestamp  SnowDepth_m\n",
       "6226  2021-10-01 00:00:00        0.584\n",
       "6227  2021-10-01 01:00:00        0.579\n",
       "6228  2021-10-01 02:00:00        0.591\n",
       "6229  2021-10-01 03:00:00        0.585\n",
       "6230  2021-10-01 04:00:00        0.524"
      ]
     },
     "execution_count": 69,
     "metadata": {},
     "output_type": "execute_result"
    }
   ],
   "source": [
    "# Now create a mask and filter the hourly data by this same period\n",
    "mask_season = (hourly['Timestamp'] >= season_start) & (hourly['Timestamp'] <= season_end)\n",
    "season_df = hourly.loc[mask_season]\n",
    "season_df.head()"
   ]
  },
  {
   "cell_type": "code",
   "execution_count": 70,
   "id": "a7094c70-99df-4ca7-aec2-139de4d1fa59",
   "metadata": {},
   "outputs": [],
   "source": [
    "# Set the index to the Timestamp column\n",
    "season_df = season_df.set_index('Timestamp')"
   ]
  },
  {
   "cell_type": "code",
   "execution_count": 81,
   "id": "fa3847b7-46e4-4d21-b651-a6701e10ebe3",
   "metadata": {},
   "outputs": [
    {
     "data": {
      "text/html": [
       "<div>\n",
       "<style scoped>\n",
       "    .dataframe tbody tr th:only-of-type {\n",
       "        vertical-align: middle;\n",
       "    }\n",
       "\n",
       "    .dataframe tbody tr th {\n",
       "        vertical-align: top;\n",
       "    }\n",
       "\n",
       "    .dataframe thead th {\n",
       "        text-align: right;\n",
       "    }\n",
       "</style>\n",
       "<table border=\"1\" class=\"dataframe\">\n",
       "  <thead>\n",
       "    <tr style=\"text-align: right;\">\n",
       "      <th></th>\n",
       "      <th>SnowDepth_m</th>\n",
       "    </tr>\n",
       "    <tr>\n",
       "      <th>Timestamp</th>\n",
       "      <th></th>\n",
       "    </tr>\n",
       "  </thead>\n",
       "  <tbody>\n",
       "    <tr>\n",
       "      <th>2021-10-01 00:00:00</th>\n",
       "      <td>0.584</td>\n",
       "    </tr>\n",
       "    <tr>\n",
       "      <th>2021-10-01 01:00:00</th>\n",
       "      <td>0.579</td>\n",
       "    </tr>\n",
       "    <tr>\n",
       "      <th>2021-10-01 02:00:00</th>\n",
       "      <td>0.591</td>\n",
       "    </tr>\n",
       "    <tr>\n",
       "      <th>2021-10-01 03:00:00</th>\n",
       "      <td>0.585</td>\n",
       "    </tr>\n",
       "    <tr>\n",
       "      <th>2021-10-01 04:00:00</th>\n",
       "      <td>0.524</td>\n",
       "    </tr>\n",
       "  </tbody>\n",
       "</table>\n",
       "</div>"
      ],
      "text/plain": [
       "                     SnowDepth_m\n",
       "Timestamp                       \n",
       "2021-10-01 00:00:00        0.584\n",
       "2021-10-01 01:00:00        0.579\n",
       "2021-10-01 02:00:00        0.591\n",
       "2021-10-01 03:00:00        0.585\n",
       "2021-10-01 04:00:00        0.524"
      ]
     },
     "execution_count": 81,
     "metadata": {},
     "output_type": "execute_result"
    }
   ],
   "source": [
    "# Make sure the index is in datetime format\n",
    "season_df.index= pd.to_datetime(season_df.index)\n",
    "season_df.head()"
   ]
  },
  {
   "cell_type": "code",
   "execution_count": 76,
   "id": "6bdfbb9c-7b38-40dc-9d2b-b0b7a60f05f0",
   "metadata": {},
   "outputs": [],
   "source": [
    "# Aggregate to capture daily average snow depth based on the Hourly data\n",
    "daily = season_df.resample('D').mean()"
   ]
  },
  {
   "cell_type": "code",
   "execution_count": 77,
   "id": "a812003b-24cb-4bca-8ae1-0eae3b074b1b",
   "metadata": {},
   "outputs": [],
   "source": [
    "# Set the daily data equal to series\n",
    "series = daily"
   ]
  },
  {
   "cell_type": "code",
   "execution_count": 79,
   "id": "1a0dbf6d-77d4-4215-a384-c028dd04b3f2",
   "metadata": {},
   "outputs": [
    {
     "data": {
      "text/html": [
       "<div>\n",
       "<style scoped>\n",
       "    .dataframe tbody tr th:only-of-type {\n",
       "        vertical-align: middle;\n",
       "    }\n",
       "\n",
       "    .dataframe tbody tr th {\n",
       "        vertical-align: top;\n",
       "    }\n",
       "\n",
       "    .dataframe thead th {\n",
       "        text-align: right;\n",
       "    }\n",
       "</style>\n",
       "<table border=\"1\" class=\"dataframe\">\n",
       "  <thead>\n",
       "    <tr style=\"text-align: right;\">\n",
       "      <th></th>\n",
       "      <th>SnowDepth_m</th>\n",
       "    </tr>\n",
       "    <tr>\n",
       "      <th>Timestamp</th>\n",
       "      <th></th>\n",
       "    </tr>\n",
       "  </thead>\n",
       "  <tbody>\n",
       "    <tr>\n",
       "      <th>2021-10-01</th>\n",
       "      <td>0.356917</td>\n",
       "    </tr>\n",
       "    <tr>\n",
       "      <th>2021-10-02</th>\n",
       "      <td>0.222174</td>\n",
       "    </tr>\n",
       "    <tr>\n",
       "      <th>2021-10-03</th>\n",
       "      <td>0.301889</td>\n",
       "    </tr>\n",
       "    <tr>\n",
       "      <th>2021-10-04</th>\n",
       "      <td>0.243278</td>\n",
       "    </tr>\n",
       "    <tr>\n",
       "      <th>2021-10-05</th>\n",
       "      <td>0.262000</td>\n",
       "    </tr>\n",
       "    <tr>\n",
       "      <th>...</th>\n",
       "      <td>...</td>\n",
       "    </tr>\n",
       "    <tr>\n",
       "      <th>2022-06-26</th>\n",
       "      <td>0.185500</td>\n",
       "    </tr>\n",
       "    <tr>\n",
       "      <th>2022-06-27</th>\n",
       "      <td>NaN</td>\n",
       "    </tr>\n",
       "    <tr>\n",
       "      <th>2022-06-28</th>\n",
       "      <td>NaN</td>\n",
       "    </tr>\n",
       "    <tr>\n",
       "      <th>2022-06-29</th>\n",
       "      <td>NaN</td>\n",
       "    </tr>\n",
       "    <tr>\n",
       "      <th>2022-06-30</th>\n",
       "      <td>0.316333</td>\n",
       "    </tr>\n",
       "  </tbody>\n",
       "</table>\n",
       "<p>273 rows × 1 columns</p>\n",
       "</div>"
      ],
      "text/plain": [
       "            SnowDepth_m\n",
       "Timestamp              \n",
       "2021-10-01     0.356917\n",
       "2021-10-02     0.222174\n",
       "2021-10-03     0.301889\n",
       "2021-10-04     0.243278\n",
       "2021-10-05     0.262000\n",
       "...                 ...\n",
       "2022-06-26     0.185500\n",
       "2022-06-27          NaN\n",
       "2022-06-28          NaN\n",
       "2022-06-29          NaN\n",
       "2022-06-30     0.316333\n",
       "\n",
       "[273 rows x 1 columns]"
      ]
     },
     "execution_count": 79,
     "metadata": {},
     "output_type": "execute_result"
    }
   ],
   "source": [
    "series"
   ]
  },
  {
   "cell_type": "code",
   "execution_count": 80,
   "id": "9ff2b7f1-e71f-40d2-9b26-146093f33d68",
   "metadata": {},
   "outputs": [],
   "source": [
    "series['SnowDepth_m'] = np.where((0 <= series['SnowDepth_m']) & (series['SnowDepth_m'] < 2.3), series['SnowDepth_m'], np.nan)"
   ]
  },
  {
   "cell_type": "code",
   "execution_count": 82,
   "id": "0c8c3509-b0fc-4863-97a5-d64becf9a680",
   "metadata": {},
   "outputs": [
    {
     "data": {
      "text/plain": [
       "<Axes: xlabel='Timestamp'>"
      ]
     },
     "execution_count": 82,
     "metadata": {},
     "output_type": "execute_result"
    },
    {
     "data": {
      "image/png": "[encoded data removed]",
      "text/plain": [
       "<Figure size 640x480 with 1 Axes>"
      ]
     },
     "metadata": {},
     "output_type": "display_data"
    }
   ],
   "source": [
    "sns.lineplot(data = series)"
   ]
  },
  {
   "cell_type": "code",
   "execution_count": 83,
   "id": "3ec59005-0957-4cd7-83f5-4e3994ff9022",
   "metadata": {},
   "outputs": [
    {
     "data": {
      "text/html": [
       "<div>\n",
       "<style scoped>\n",
       "    .dataframe tbody tr th:only-of-type {\n",
       "        vertical-align: middle;\n",
       "    }\n",
       "\n",
       "    .dataframe tbody tr th {\n",
       "        vertical-align: top;\n",
       "    }\n",
       "\n",
       "    .dataframe thead th {\n",
       "        text-align: right;\n",
       "    }\n",
       "</style>\n",
       "<table border=\"1\" class=\"dataframe\">\n",
       "  <thead>\n",
       "    <tr style=\"text-align: right;\">\n",
       "      <th></th>\n",
       "      <th>SnowDepth_m</th>\n",
       "    </tr>\n",
       "    <tr>\n",
       "      <th>Timestamp</th>\n",
       "      <th></th>\n",
       "    </tr>\n",
       "  </thead>\n",
       "  <tbody>\n",
       "    <tr>\n",
       "      <th>2022-04-23</th>\n",
       "      <td>1.924</td>\n",
       "    </tr>\n",
       "  </tbody>\n",
       "</table>\n",
       "</div>"
      ],
      "text/plain": [
       "            SnowDepth_m\n",
       "Timestamp              \n",
       "2022-04-23        1.924"
      ]
     },
     "execution_count": 83,
     "metadata": {},
     "output_type": "execute_result"
    }
   ],
   "source": [
    "# View the dates of the seasonal max\n",
    "season_max = (series[series.SnowDepth_m == series.SnowDepth_m.max()])\n",
    "season_max"
   ]
  },
  {
   "cell_type": "code",
   "execution_count": 89,
   "id": "12c9571e-f83f-46dc-87d6-b0c62649f617",
   "metadata": {},
   "outputs": [
    {
     "data": {
      "text/html": [
       "<div>\n",
       "<style scoped>\n",
       "    .dataframe tbody tr th:only-of-type {\n",
       "        vertical-align: middle;\n",
       "    }\n",
       "\n",
       "    .dataframe tbody tr th {\n",
       "        vertical-align: top;\n",
       "    }\n",
       "\n",
       "    .dataframe thead th {\n",
       "        text-align: right;\n",
       "    }\n",
       "</style>\n",
       "<table border=\"1\" class=\"dataframe\">\n",
       "  <thead>\n",
       "    <tr style=\"text-align: right;\">\n",
       "      <th></th>\n",
       "      <th>Timestamp</th>\n",
       "      <th>SnowDepth_m</th>\n",
       "    </tr>\n",
       "  </thead>\n",
       "  <tbody>\n",
       "    <tr>\n",
       "      <th>0</th>\n",
       "      <td>2021-10-01</td>\n",
       "      <td>0.356917</td>\n",
       "    </tr>\n",
       "    <tr>\n",
       "      <th>1</th>\n",
       "      <td>2021-10-02</td>\n",
       "      <td>0.222174</td>\n",
       "    </tr>\n",
       "    <tr>\n",
       "      <th>2</th>\n",
       "      <td>2021-10-03</td>\n",
       "      <td>0.301889</td>\n",
       "    </tr>\n",
       "    <tr>\n",
       "      <th>3</th>\n",
       "      <td>2021-10-04</td>\n",
       "      <td>0.243278</td>\n",
       "    </tr>\n",
       "    <tr>\n",
       "      <th>4</th>\n",
       "      <td>2021-10-05</td>\n",
       "      <td>0.262000</td>\n",
       "    </tr>\n",
       "  </tbody>\n",
       "</table>\n",
       "</div>"
      ],
      "text/plain": [
       "   Timestamp  SnowDepth_m\n",
       "0 2021-10-01     0.356917\n",
       "1 2021-10-02     0.222174\n",
       "2 2021-10-03     0.301889\n",
       "3 2021-10-04     0.243278\n",
       "4 2021-10-05     0.262000"
      ]
     },
     "execution_count": 89,
     "metadata": {},
     "output_type": "execute_result"
    }
   ],
   "source": [
    "# Reset the index so we have two distinct columns\n",
    "daily_df = series.reset_index()\n",
    "daily_df.head()"
   ]
  },
  {
   "cell_type": "code",
   "execution_count": 85,
   "id": "dd1bd6df-1ed2-4ead-8712-cf71fa94bd68",
   "metadata": {},
   "outputs": [
    {
     "name": "stdout",
     "output_type": "stream",
     "text": [
      "DatetimeIndex(['2021-10-01', '2021-10-02', '2021-10-03', '2021-10-04',\n",
      "               '2021-10-05', '2021-10-06', '2021-10-07', '2021-10-08',\n",
      "               '2021-10-09', '2021-10-10', '2021-10-11'],\n",
      "              dtype='datetime64[ns]', freq='D')\n"
     ]
    }
   ],
   "source": [
    "# Create a list of the snow_off dates that we wish to set to zero \n",
    "# These are NAN values that we know are actually equal to zero\n",
    "snow_off_dates = pd.date_range('2021-10-01','2021-10-11',freq='d')\n",
    "print(snow_off_dates)"
   ]
  },
  {
   "cell_type": "code",
   "execution_count": 86,
   "id": "baeba826-a5a6-4c23-bc84-c0bda490b46b",
   "metadata": {},
   "outputs": [],
   "source": [
    "# Append the list for values in June where we know there is no snow\n",
    "snow_off_dates = snow_off_dates.append(pd.date_range('2022-06-25','2022-06-30',freq = 'd'))"
   ]
  },
  {
   "cell_type": "code",
   "execution_count": 91,
   "id": "55a91f51-c5f8-40ba-a3e6-d0d65392ffe0",
   "metadata": {},
   "outputs": [],
   "source": [
    "# Run a loop to set values for snow depth in the season_df to zero if they match the known snow off dates at the \n",
    "# beginning and end of the field season\n",
    "y = 0\n",
    "\n",
    "for date in daily_df['Timestamp']:\n",
    "    z = str(date)\n",
    "    z = z.split(' ')[0]\n",
    "    for x in snow_off_dates:\n",
    "        c = str(x)\n",
    "        c = c.split(' ')[0]\n",
    "        if z == c:\n",
    "            daily_df.iat[y,1] = 0\n",
    "    y = y+1  "
   ]
  },
  {
   "cell_type": "code",
   "execution_count": 92,
   "id": "9383aae0-7e7f-40a9-94a3-c78550422a0f",
   "metadata": {},
   "outputs": [
    {
     "data": {
      "text/html": [
       "<div>\n",
       "<style scoped>\n",
       "    .dataframe tbody tr th:only-of-type {\n",
       "        vertical-align: middle;\n",
       "    }\n",
       "\n",
       "    .dataframe tbody tr th {\n",
       "        vertical-align: top;\n",
       "    }\n",
       "\n",
       "    .dataframe thead th {\n",
       "        text-align: right;\n",
       "    }\n",
       "</style>\n",
       "<table border=\"1\" class=\"dataframe\">\n",
       "  <thead>\n",
       "    <tr style=\"text-align: right;\">\n",
       "      <th></th>\n",
       "      <th>Timestamp</th>\n",
       "      <th>SnowDepth_m</th>\n",
       "    </tr>\n",
       "  </thead>\n",
       "  <tbody>\n",
       "    <tr>\n",
       "      <th>0</th>\n",
       "      <td>2021-10-01</td>\n",
       "      <td>0.0</td>\n",
       "    </tr>\n",
       "    <tr>\n",
       "      <th>1</th>\n",
       "      <td>2021-10-02</td>\n",
       "      <td>0.0</td>\n",
       "    </tr>\n",
       "    <tr>\n",
       "      <th>2</th>\n",
       "      <td>2021-10-03</td>\n",
       "      <td>0.0</td>\n",
       "    </tr>\n",
       "    <tr>\n",
       "      <th>3</th>\n",
       "      <td>2021-10-04</td>\n",
       "      <td>0.0</td>\n",
       "    </tr>\n",
       "    <tr>\n",
       "      <th>4</th>\n",
       "      <td>2021-10-05</td>\n",
       "      <td>0.0</td>\n",
       "    </tr>\n",
       "  </tbody>\n",
       "</table>\n",
       "</div>"
      ],
      "text/plain": [
       "   Timestamp  SnowDepth_m\n",
       "0 2021-10-01          0.0\n",
       "1 2021-10-02          0.0\n",
       "2 2021-10-03          0.0\n",
       "3 2021-10-04          0.0\n",
       "4 2021-10-05          0.0"
      ]
     },
     "execution_count": 92,
     "metadata": {},
     "output_type": "execute_result"
    }
   ],
   "source": [
    "# Interpolate the missing values\n",
    "daily_df = daily_df.interpolate()\n",
    "daily_df.head()"
   ]
  },
  {
   "cell_type": "code",
   "execution_count": 93,
   "id": "25ba6c3f-ccfd-4d2a-8b23-e195ef6c55f1",
   "metadata": {},
   "outputs": [
    {
     "data": {
      "text/plain": [
       "<Axes: xlabel='Timestamp', ylabel='SnowDepth_m'>"
      ]
     },
     "execution_count": 93,
     "metadata": {},
     "output_type": "execute_result"
    },
    {
     "data": {
      "image/png": "[encoded data removed]",
      "text/plain": [
       "<Figure size 640x480 with 1 Axes>"
      ]
     },
     "metadata": {},
     "output_type": "display_data"
    }
   ],
   "source": [
    "sns.lineplot(data = daily_df, x = 'Timestamp', y = 'SnowDepth_m')"
   ]
  },
  {
   "cell_type": "code",
   "execution_count": 94,
   "id": "4f5979ab-a34e-4ecd-9bf5-71ba768cb620",
   "metadata": {},
   "outputs": [
    {
     "data": {
      "text/html": [
       "<div>\n",
       "<style scoped>\n",
       "    .dataframe tbody tr th:only-of-type {\n",
       "        vertical-align: middle;\n",
       "    }\n",
       "\n",
       "    .dataframe tbody tr th {\n",
       "        vertical-align: top;\n",
       "    }\n",
       "\n",
       "    .dataframe thead th {\n",
       "        text-align: right;\n",
       "    }\n",
       "</style>\n",
       "<table border=\"1\" class=\"dataframe\">\n",
       "  <thead>\n",
       "    <tr style=\"text-align: right;\">\n",
       "      <th></th>\n",
       "      <th>Timestamp</th>\n",
       "      <th>SnowDepth_m</th>\n",
       "    </tr>\n",
       "  </thead>\n",
       "  <tbody>\n",
       "    <tr>\n",
       "      <th>204</th>\n",
       "      <td>2022-04-23</td>\n",
       "      <td>1.924</td>\n",
       "    </tr>\n",
       "  </tbody>\n",
       "</table>\n",
       "</div>"
      ],
      "text/plain": [
       "     Timestamp  SnowDepth_m\n",
       "204 2022-04-23        1.924"
      ]
     },
     "execution_count": 94,
     "metadata": {},
     "output_type": "execute_result"
    }
   ],
   "source": [
    "# View the dates of the seasonal max\n",
    "season_max = (daily_df[daily_df.SnowDepth_m == daily_df.SnowDepth_m.max()])\n",
    "season_max"
   ]
  },
  {
   "cell_type": "code",
   "execution_count": 97,
   "id": "d2153361-431b-49f2-9862-3985ee23919e",
   "metadata": {},
   "outputs": [
    {
     "data": {
      "text/html": [
       "<div>\n",
       "<style scoped>\n",
       "    .dataframe tbody tr th:only-of-type {\n",
       "        vertical-align: middle;\n",
       "    }\n",
       "\n",
       "    .dataframe tbody tr th {\n",
       "        vertical-align: top;\n",
       "    }\n",
       "\n",
       "    .dataframe thead th {\n",
       "        text-align: right;\n",
       "    }\n",
       "</style>\n",
       "<table border=\"1\" class=\"dataframe\">\n",
       "  <thead>\n",
       "    <tr style=\"text-align: right;\">\n",
       "      <th></th>\n",
       "      <th>Timestamp</th>\n",
       "      <th>SnowDepth_m</th>\n",
       "    </tr>\n",
       "  </thead>\n",
       "  <tbody>\n",
       "    <tr>\n",
       "      <th>0</th>\n",
       "      <td>2021-10-01</td>\n",
       "      <td>0.0</td>\n",
       "    </tr>\n",
       "    <tr>\n",
       "      <th>1</th>\n",
       "      <td>2021-10-02</td>\n",
       "      <td>0.0</td>\n",
       "    </tr>\n",
       "    <tr>\n",
       "      <th>2</th>\n",
       "      <td>2021-10-03</td>\n",
       "      <td>0.0</td>\n",
       "    </tr>\n",
       "    <tr>\n",
       "      <th>3</th>\n",
       "      <td>2021-10-04</td>\n",
       "      <td>0.0</td>\n",
       "    </tr>\n",
       "    <tr>\n",
       "      <th>4</th>\n",
       "      <td>2021-10-05</td>\n",
       "      <td>0.0</td>\n",
       "    </tr>\n",
       "  </tbody>\n",
       "</table>\n",
       "</div>"
      ],
      "text/plain": [
       "   Timestamp  SnowDepth_m\n",
       "0 2021-10-01          0.0\n",
       "1 2021-10-02          0.0\n",
       "2 2021-10-03          0.0\n",
       "3 2021-10-04          0.0\n",
       "4 2021-10-05          0.0"
      ]
     },
     "execution_count": 97,
     "metadata": {},
     "output_type": "execute_result"
    }
   ],
   "source": [
    "daily_df.head()"
   ]
  },
  {
   "cell_type": "code",
   "execution_count": 98,
   "id": "6a83382c-d638-4794-9bbd-5f1064fb06ec",
   "metadata": {},
   "outputs": [],
   "source": [
    "# Export the corrected snow depth data\n",
    "daily_df.to_csv('Cleaned/seasonal_SDepth_Filled.csv', index = False)"
   ]
  },
  {
   "cell_type": "markdown",
   "id": "21f2bc3a-fc90-45ba-a544-ed985845da91",
   "metadata": {},
   "source": [
    "------------------------------------------------------------------------------------------"
   ]
  }
 ],
 "metadata": {
  "kernelspec": {
   "display_name": "Python 3 (ipykernel)",
   "language": "python",
   "name": "python3"
  },
  "language_info": {
   "codemirror_mode": {
    "name": "ipython",
    "version": 3
   },
   "file_extension": ".py",
   "mimetype": "text/x-python",
   "name": "python",
   "nbconvert_exporter": "python",
   "pygments_lexer": "ipython3",
   "version": "3.11.3"
  }
 },
 "nbformat": 4,
 "nbformat_minor": 5
}
