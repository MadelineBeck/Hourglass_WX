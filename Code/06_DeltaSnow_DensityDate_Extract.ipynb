{
 "cells": [
  {
   "cell_type": "code",
   "execution_count": 1,
   "id": "85a5c181-ddde-4c06-9c71-4cfd8754e18e",
   "metadata": {},
   "outputs": [],
   "source": [
    "import pandas as pd\n",
    "from pandas import read_csv\n",
    "import os"
   ]
  },
  {
   "cell_type": "code",
   "execution_count": 2,
   "id": "446cc253-8cec-41c1-a205-02c0afd83221",
   "metadata": {},
   "outputs": [],
   "source": [
    "os.chdir('/Users/f67f911/Desktop/Hourglass_WX/Data/Cleaned')"
   ]
  },
  {
   "cell_type": "code",
   "execution_count": 4,
   "id": "e9576f31-752d-427b-a95b-0c56c77210cb",
   "metadata": {},
   "outputs": [
    {
     "data": {
      "text/html": [
       "<div>\n",
       "<style scoped>\n",
       "    .dataframe tbody tr th:only-of-type {\n",
       "        vertical-align: middle;\n",
       "    }\n",
       "\n",
       "    .dataframe tbody tr th {\n",
       "        vertical-align: top;\n",
       "    }\n",
       "\n",
       "    .dataframe thead th {\n",
       "        text-align: right;\n",
       "    }\n",
       "</style>\n",
       "<table border=\"1\" class=\"dataframe\">\n",
       "  <thead>\n",
       "    <tr style=\"text-align: right;\">\n",
       "      <th></th>\n",
       "      <th>Timestamp</th>\n",
       "      <th>swe</th>\n",
       "      <th>SnowDepth_m</th>\n",
       "      <th>density</th>\n",
       "      <th>day</th>\n",
       "      <th>labels</th>\n",
       "    </tr>\n",
       "  </thead>\n",
       "  <tbody>\n",
       "    <tr>\n",
       "      <th>0</th>\n",
       "      <td>2021-10-01</td>\n",
       "      <td>0.0</td>\n",
       "      <td>0.0</td>\n",
       "      <td>NaN</td>\n",
       "      <td>1</td>\n",
       "      <td>Oct 01</td>\n",
       "    </tr>\n",
       "    <tr>\n",
       "      <th>1</th>\n",
       "      <td>2021-10-02</td>\n",
       "      <td>0.0</td>\n",
       "      <td>0.0</td>\n",
       "      <td>NaN</td>\n",
       "      <td>2</td>\n",
       "      <td>Oct 02</td>\n",
       "    </tr>\n",
       "    <tr>\n",
       "      <th>2</th>\n",
       "      <td>2021-10-03</td>\n",
       "      <td>0.0</td>\n",
       "      <td>0.0</td>\n",
       "      <td>NaN</td>\n",
       "      <td>3</td>\n",
       "      <td>Oct 03</td>\n",
       "    </tr>\n",
       "    <tr>\n",
       "      <th>3</th>\n",
       "      <td>2021-10-04</td>\n",
       "      <td>0.0</td>\n",
       "      <td>0.0</td>\n",
       "      <td>NaN</td>\n",
       "      <td>4</td>\n",
       "      <td>Oct 04</td>\n",
       "    </tr>\n",
       "    <tr>\n",
       "      <th>4</th>\n",
       "      <td>2021-10-05</td>\n",
       "      <td>0.0</td>\n",
       "      <td>0.0</td>\n",
       "      <td>NaN</td>\n",
       "      <td>5</td>\n",
       "      <td>Oct 05</td>\n",
       "    </tr>\n",
       "  </tbody>\n",
       "</table>\n",
       "</div>"
      ],
      "text/plain": [
       "    Timestamp  swe  SnowDepth_m  density  day  labels\n",
       "0  2021-10-01  0.0          0.0      NaN    1  Oct 01\n",
       "1  2021-10-02  0.0          0.0      NaN    2  Oct 02\n",
       "2  2021-10-03  0.0          0.0      NaN    3  Oct 03\n",
       "3  2021-10-04  0.0          0.0      NaN    4  Oct 04\n",
       "4  2021-10-05  0.0          0.0      NaN    5  Oct 05"
      ]
     },
     "execution_count": 4,
     "metadata": {},
     "output_type": "execute_result"
    }
   ],
   "source": [
    "# Upload the complete data\n",
    "seasonal_df = read_csv('seasonal_swe_density.csv', header=0, index_col=0)\n",
    "seasonal_df.head()"
   ]
  },
  {
   "cell_type": "markdown",
   "id": "f2bab9bf-92f8-4003-a0b3-308c07f64e21",
   "metadata": {},
   "source": [
    "## Extract the flight date information for the delta snow density"
   ]
  },
  {
   "cell_type": "code",
   "execution_count": 5,
   "id": "f72881bd-9a46-49e0-b025-087fdbb019ef",
   "metadata": {},
   "outputs": [
    {
     "data": {
      "text/html": [
       "<div>\n",
       "<style scoped>\n",
       "    .dataframe tbody tr th:only-of-type {\n",
       "        vertical-align: middle;\n",
       "    }\n",
       "\n",
       "    .dataframe tbody tr th {\n",
       "        vertical-align: top;\n",
       "    }\n",
       "\n",
       "    .dataframe thead th {\n",
       "        text-align: right;\n",
       "    }\n",
       "</style>\n",
       "<table border=\"1\" class=\"dataframe\">\n",
       "  <thead>\n",
       "    <tr style=\"text-align: right;\">\n",
       "      <th></th>\n",
       "      <th>Timestamp</th>\n",
       "      <th>swe</th>\n",
       "      <th>SnowDepth_m</th>\n",
       "      <th>density</th>\n",
       "      <th>day</th>\n",
       "      <th>labels</th>\n",
       "    </tr>\n",
       "  </thead>\n",
       "  <tbody>\n",
       "    <tr>\n",
       "      <th>54</th>\n",
       "      <td>2021-11-24</td>\n",
       "      <td>160.38</td>\n",
       "      <td>0.636829</td>\n",
       "      <td>0.251842</td>\n",
       "      <td>24</td>\n",
       "      <td>Nov 24</td>\n",
       "    </tr>\n",
       "  </tbody>\n",
       "</table>\n",
       "</div>"
      ],
      "text/plain": [
       "     Timestamp     swe  SnowDepth_m   density  day  labels\n",
       "54  2021-11-24  160.38     0.636829  0.251842   24  Nov 24"
      ]
     },
     "execution_count": 5,
     "metadata": {},
     "output_type": "execute_result"
    }
   ],
   "source": [
    "Nov24 = seasonal_df[seasonal_df['Timestamp'] == '2021-11-24']\n",
    "Nov24"
   ]
  },
  {
   "cell_type": "code",
   "execution_count": 6,
   "id": "e51b1e49-c73e-4f25-995a-e4441edd0aaa",
   "metadata": {},
   "outputs": [
    {
     "data": {
      "text/html": [
       "<div>\n",
       "<style scoped>\n",
       "    .dataframe tbody tr th:only-of-type {\n",
       "        vertical-align: middle;\n",
       "    }\n",
       "\n",
       "    .dataframe tbody tr th {\n",
       "        vertical-align: top;\n",
       "    }\n",
       "\n",
       "    .dataframe thead th {\n",
       "        text-align: right;\n",
       "    }\n",
       "</style>\n",
       "<table border=\"1\" class=\"dataframe\">\n",
       "  <thead>\n",
       "    <tr style=\"text-align: right;\">\n",
       "      <th></th>\n",
       "      <th>Timestamp</th>\n",
       "      <th>swe</th>\n",
       "      <th>SnowDepth_m</th>\n",
       "      <th>density</th>\n",
       "      <th>day</th>\n",
       "      <th>labels</th>\n",
       "    </tr>\n",
       "  </thead>\n",
       "  <tbody>\n",
       "    <tr>\n",
       "      <th>100</th>\n",
       "      <td>2022-01-09</td>\n",
       "      <td>304.219</td>\n",
       "      <td>1.101</td>\n",
       "      <td>0.276312</td>\n",
       "      <td>9</td>\n",
       "      <td>Jan 09</td>\n",
       "    </tr>\n",
       "  </tbody>\n",
       "</table>\n",
       "</div>"
      ],
      "text/plain": [
       "      Timestamp      swe  SnowDepth_m   density  day  labels\n",
       "100  2022-01-09  304.219        1.101  0.276312    9  Jan 09"
      ]
     },
     "execution_count": 6,
     "metadata": {},
     "output_type": "execute_result"
    }
   ],
   "source": [
    "Jan09 = seasonal_df[seasonal_df['Timestamp'] == '2022-01-09']\n",
    "Jan09"
   ]
  },
  {
   "cell_type": "code",
   "execution_count": 7,
   "id": "3124a3a5-c167-498d-afa1-30c0877a1492",
   "metadata": {},
   "outputs": [
    {
     "data": {
      "text/html": [
       "<div>\n",
       "<style scoped>\n",
       "    .dataframe tbody tr th:only-of-type {\n",
       "        vertical-align: middle;\n",
       "    }\n",
       "\n",
       "    .dataframe tbody tr th {\n",
       "        vertical-align: top;\n",
       "    }\n",
       "\n",
       "    .dataframe thead th {\n",
       "        text-align: right;\n",
       "    }\n",
       "</style>\n",
       "<table border=\"1\" class=\"dataframe\">\n",
       "  <thead>\n",
       "    <tr style=\"text-align: right;\">\n",
       "      <th></th>\n",
       "      <th>Timestamp</th>\n",
       "      <th>swe</th>\n",
       "      <th>SnowDepth_m</th>\n",
       "      <th>density</th>\n",
       "      <th>day</th>\n",
       "      <th>labels</th>\n",
       "    </tr>\n",
       "  </thead>\n",
       "  <tbody>\n",
       "    <tr>\n",
       "      <th>115</th>\n",
       "      <td>2022-01-24</td>\n",
       "      <td>326.608</td>\n",
       "      <td>1.164</td>\n",
       "      <td>0.280591</td>\n",
       "      <td>24</td>\n",
       "      <td>Jan 24</td>\n",
       "    </tr>\n",
       "  </tbody>\n",
       "</table>\n",
       "</div>"
      ],
      "text/plain": [
       "      Timestamp      swe  SnowDepth_m   density  day  labels\n",
       "115  2022-01-24  326.608        1.164  0.280591   24  Jan 24"
      ]
     },
     "execution_count": 7,
     "metadata": {},
     "output_type": "execute_result"
    }
   ],
   "source": [
    "Jan24 = seasonal_df[seasonal_df['Timestamp'] == '2022-01-24']\n",
    "Jan24"
   ]
  },
  {
   "cell_type": "code",
   "execution_count": 8,
   "id": "03936214-4a1d-4941-9d95-18e96c6ab1ec",
   "metadata": {},
   "outputs": [
    {
     "data": {
      "text/html": [
       "<div>\n",
       "<style scoped>\n",
       "    .dataframe tbody tr th:only-of-type {\n",
       "        vertical-align: middle;\n",
       "    }\n",
       "\n",
       "    .dataframe tbody tr th {\n",
       "        vertical-align: top;\n",
       "    }\n",
       "\n",
       "    .dataframe thead th {\n",
       "        text-align: right;\n",
       "    }\n",
       "</style>\n",
       "<table border=\"1\" class=\"dataframe\">\n",
       "  <thead>\n",
       "    <tr style=\"text-align: right;\">\n",
       "      <th></th>\n",
       "      <th>Timestamp</th>\n",
       "      <th>swe</th>\n",
       "      <th>SnowDepth_m</th>\n",
       "      <th>density</th>\n",
       "      <th>day</th>\n",
       "      <th>labels</th>\n",
       "    </tr>\n",
       "  </thead>\n",
       "  <tbody>\n",
       "    <tr>\n",
       "      <th>134</th>\n",
       "      <td>2022-02-12</td>\n",
       "      <td>352.355</td>\n",
       "      <td>1.158792</td>\n",
       "      <td>0.304071</td>\n",
       "      <td>12</td>\n",
       "      <td>Feb 12</td>\n",
       "    </tr>\n",
       "  </tbody>\n",
       "</table>\n",
       "</div>"
      ],
      "text/plain": [
       "      Timestamp      swe  SnowDepth_m   density  day  labels\n",
       "134  2022-02-12  352.355     1.158792  0.304071   12  Feb 12"
      ]
     },
     "execution_count": 8,
     "metadata": {},
     "output_type": "execute_result"
    }
   ],
   "source": [
    "Feb12 = seasonal_df[seasonal_df['Timestamp'] == '2022-02-12']\n",
    "Feb12"
   ]
  },
  {
   "cell_type": "code",
   "execution_count": 9,
   "id": "2e19097f-8884-4523-b769-4cf8e8c80502",
   "metadata": {},
   "outputs": [
    {
     "data": {
      "text/html": [
       "<div>\n",
       "<style scoped>\n",
       "    .dataframe tbody tr th:only-of-type {\n",
       "        vertical-align: middle;\n",
       "    }\n",
       "\n",
       "    .dataframe tbody tr th {\n",
       "        vertical-align: top;\n",
       "    }\n",
       "\n",
       "    .dataframe thead th {\n",
       "        text-align: right;\n",
       "    }\n",
       "</style>\n",
       "<table border=\"1\" class=\"dataframe\">\n",
       "  <thead>\n",
       "    <tr style=\"text-align: right;\">\n",
       "      <th></th>\n",
       "      <th>Timestamp</th>\n",
       "      <th>swe</th>\n",
       "      <th>SnowDepth_m</th>\n",
       "      <th>density</th>\n",
       "      <th>day</th>\n",
       "      <th>labels</th>\n",
       "    </tr>\n",
       "  </thead>\n",
       "  <tbody>\n",
       "    <tr>\n",
       "      <th>140</th>\n",
       "      <td>2022-02-18</td>\n",
       "      <td>391.12</td>\n",
       "      <td>1.385333</td>\n",
       "      <td>0.282329</td>\n",
       "      <td>18</td>\n",
       "      <td>Feb 18</td>\n",
       "    </tr>\n",
       "  </tbody>\n",
       "</table>\n",
       "</div>"
      ],
      "text/plain": [
       "      Timestamp     swe  SnowDepth_m   density  day  labels\n",
       "140  2022-02-18  391.12     1.385333  0.282329   18  Feb 18"
      ]
     },
     "execution_count": 9,
     "metadata": {},
     "output_type": "execute_result"
    }
   ],
   "source": [
    "Feb18 = seasonal_df[seasonal_df['Timestamp'] == '2022-02-18']\n",
    "Feb18"
   ]
  },
  {
   "cell_type": "code",
   "execution_count": 10,
   "id": "8b72fa23-c232-4539-a4b0-6a67fd70c51f",
   "metadata": {},
   "outputs": [
    {
     "data": {
      "text/html": [
       "<div>\n",
       "<style scoped>\n",
       "    .dataframe tbody tr th:only-of-type {\n",
       "        vertical-align: middle;\n",
       "    }\n",
       "\n",
       "    .dataframe tbody tr th {\n",
       "        vertical-align: top;\n",
       "    }\n",
       "\n",
       "    .dataframe thead th {\n",
       "        text-align: right;\n",
       "    }\n",
       "</style>\n",
       "<table border=\"1\" class=\"dataframe\">\n",
       "  <thead>\n",
       "    <tr style=\"text-align: right;\">\n",
       "      <th></th>\n",
       "      <th>Timestamp</th>\n",
       "      <th>swe</th>\n",
       "      <th>SnowDepth_m</th>\n",
       "      <th>density</th>\n",
       "      <th>day</th>\n",
       "      <th>labels</th>\n",
       "    </tr>\n",
       "  </thead>\n",
       "  <tbody>\n",
       "    <tr>\n",
       "      <th>174</th>\n",
       "      <td>2022-03-24</td>\n",
       "      <td>481.055</td>\n",
       "      <td>1.519467</td>\n",
       "      <td>0.316595</td>\n",
       "      <td>24</td>\n",
       "      <td>Mar 24</td>\n",
       "    </tr>\n",
       "  </tbody>\n",
       "</table>\n",
       "</div>"
      ],
      "text/plain": [
       "      Timestamp      swe  SnowDepth_m   density  day  labels\n",
       "174  2022-03-24  481.055     1.519467  0.316595   24  Mar 24"
      ]
     },
     "execution_count": 10,
     "metadata": {},
     "output_type": "execute_result"
    }
   ],
   "source": [
    "Mar24 = seasonal_df[seasonal_df['Timestamp'] == '2022-03-24']\n",
    "Mar24"
   ]
  },
  {
   "cell_type": "code",
   "execution_count": 11,
   "id": "2b33a4da-7584-4c46-a301-319b02a53e4d",
   "metadata": {},
   "outputs": [
    {
     "data": {
      "text/html": [
       "<div>\n",
       "<style scoped>\n",
       "    .dataframe tbody tr th:only-of-type {\n",
       "        vertical-align: middle;\n",
       "    }\n",
       "\n",
       "    .dataframe tbody tr th {\n",
       "        vertical-align: top;\n",
       "    }\n",
       "\n",
       "    .dataframe thead th {\n",
       "        text-align: right;\n",
       "    }\n",
       "</style>\n",
       "<table border=\"1\" class=\"dataframe\">\n",
       "  <thead>\n",
       "    <tr style=\"text-align: right;\">\n",
       "      <th></th>\n",
       "      <th>Timestamp</th>\n",
       "      <th>swe</th>\n",
       "      <th>SnowDepth_m</th>\n",
       "      <th>density</th>\n",
       "      <th>day</th>\n",
       "      <th>labels</th>\n",
       "    </tr>\n",
       "  </thead>\n",
       "  <tbody>\n",
       "    <tr>\n",
       "      <th>175</th>\n",
       "      <td>2022-03-25</td>\n",
       "      <td>481.055</td>\n",
       "      <td>1.492273</td>\n",
       "      <td>0.322364</td>\n",
       "      <td>25</td>\n",
       "      <td>Mar 25</td>\n",
       "    </tr>\n",
       "  </tbody>\n",
       "</table>\n",
       "</div>"
      ],
      "text/plain": [
       "      Timestamp      swe  SnowDepth_m   density  day  labels\n",
       "175  2022-03-25  481.055     1.492273  0.322364   25  Mar 25"
      ]
     },
     "execution_count": 11,
     "metadata": {},
     "output_type": "execute_result"
    }
   ],
   "source": [
    "Mar25 = seasonal_df[seasonal_df['Timestamp'] == '2022-03-25']\n",
    "Mar25"
   ]
  },
  {
   "cell_type": "code",
   "execution_count": 12,
   "id": "0301ab06-c20a-4ec4-85aa-99828672fb03",
   "metadata": {},
   "outputs": [
    {
     "data": {
      "text/html": [
       "<div>\n",
       "<style scoped>\n",
       "    .dataframe tbody tr th:only-of-type {\n",
       "        vertical-align: middle;\n",
       "    }\n",
       "\n",
       "    .dataframe tbody tr th {\n",
       "        vertical-align: top;\n",
       "    }\n",
       "\n",
       "    .dataframe thead th {\n",
       "        text-align: right;\n",
       "    }\n",
       "</style>\n",
       "<table border=\"1\" class=\"dataframe\">\n",
       "  <thead>\n",
       "    <tr style=\"text-align: right;\">\n",
       "      <th></th>\n",
       "      <th>Timestamp</th>\n",
       "      <th>swe</th>\n",
       "      <th>SnowDepth_m</th>\n",
       "      <th>density</th>\n",
       "      <th>day</th>\n",
       "      <th>labels</th>\n",
       "    </tr>\n",
       "  </thead>\n",
       "  <tbody>\n",
       "    <tr>\n",
       "      <th>188</th>\n",
       "      <td>2022-04-07</td>\n",
       "      <td>487.494</td>\n",
       "      <td>1.405471</td>\n",
       "      <td>0.346855</td>\n",
       "      <td>7</td>\n",
       "      <td>Apr 07</td>\n",
       "    </tr>\n",
       "  </tbody>\n",
       "</table>\n",
       "</div>"
      ],
      "text/plain": [
       "      Timestamp      swe  SnowDepth_m   density  day  labels\n",
       "188  2022-04-07  487.494     1.405471  0.346855    7  Apr 07"
      ]
     },
     "execution_count": 12,
     "metadata": {},
     "output_type": "execute_result"
    }
   ],
   "source": [
    "Apr07 = seasonal_df[seasonal_df['Timestamp'] == '2022-04-07']\n",
    "Apr07"
   ]
  },
  {
   "cell_type": "code",
   "execution_count": 13,
   "id": "1c325d5c-8014-4ede-a92a-04147cdc6a60",
   "metadata": {},
   "outputs": [
    {
     "data": {
      "text/html": [
       "<div>\n",
       "<style scoped>\n",
       "    .dataframe tbody tr th:only-of-type {\n",
       "        vertical-align: middle;\n",
       "    }\n",
       "\n",
       "    .dataframe tbody tr th {\n",
       "        vertical-align: top;\n",
       "    }\n",
       "\n",
       "    .dataframe thead th {\n",
       "        text-align: right;\n",
       "    }\n",
       "</style>\n",
       "<table border=\"1\" class=\"dataframe\">\n",
       "  <thead>\n",
       "    <tr style=\"text-align: right;\">\n",
       "      <th></th>\n",
       "      <th>Timestamp</th>\n",
       "      <th>swe</th>\n",
       "      <th>SnowDepth_m</th>\n",
       "      <th>density</th>\n",
       "      <th>day</th>\n",
       "      <th>labels</th>\n",
       "    </tr>\n",
       "  </thead>\n",
       "  <tbody>\n",
       "    <tr>\n",
       "      <th>216</th>\n",
       "      <td>2022-05-05</td>\n",
       "      <td>588.919</td>\n",
       "      <td>1.625778</td>\n",
       "      <td>0.362238</td>\n",
       "      <td>5</td>\n",
       "      <td>May 05</td>\n",
       "    </tr>\n",
       "  </tbody>\n",
       "</table>\n",
       "</div>"
      ],
      "text/plain": [
       "      Timestamp      swe  SnowDepth_m   density  day  labels\n",
       "216  2022-05-05  588.919     1.625778  0.362238    5  May 05"
      ]
     },
     "execution_count": 13,
     "metadata": {},
     "output_type": "execute_result"
    }
   ],
   "source": [
    "May05 = seasonal_df[seasonal_df['Timestamp'] == '2022-05-05']\n",
    "May05"
   ]
  },
  {
   "cell_type": "code",
   "execution_count": 14,
   "id": "e031b970-defc-4127-8fd2-8bdcba6f17d4",
   "metadata": {},
   "outputs": [
    {
     "data": {
      "text/html": [
       "<div>\n",
       "<style scoped>\n",
       "    .dataframe tbody tr th:only-of-type {\n",
       "        vertical-align: middle;\n",
       "    }\n",
       "\n",
       "    .dataframe tbody tr th {\n",
       "        vertical-align: top;\n",
       "    }\n",
       "\n",
       "    .dataframe thead th {\n",
       "        text-align: right;\n",
       "    }\n",
       "</style>\n",
       "<table border=\"1\" class=\"dataframe\">\n",
       "  <thead>\n",
       "    <tr style=\"text-align: right;\">\n",
       "      <th></th>\n",
       "      <th>Timestamp</th>\n",
       "      <th>swe</th>\n",
       "      <th>SnowDepth_m</th>\n",
       "      <th>density</th>\n",
       "      <th>day</th>\n",
       "      <th>labels</th>\n",
       "    </tr>\n",
       "  </thead>\n",
       "  <tbody>\n",
       "    <tr>\n",
       "      <th>221</th>\n",
       "      <td>2022-05-10</td>\n",
       "      <td>616.152</td>\n",
       "      <td>1.708444</td>\n",
       "      <td>0.360651</td>\n",
       "      <td>10</td>\n",
       "      <td>May 10</td>\n",
       "    </tr>\n",
       "  </tbody>\n",
       "</table>\n",
       "</div>"
      ],
      "text/plain": [
       "      Timestamp      swe  SnowDepth_m   density  day  labels\n",
       "221  2022-05-10  616.152     1.708444  0.360651   10  May 10"
      ]
     },
     "execution_count": 14,
     "metadata": {},
     "output_type": "execute_result"
    }
   ],
   "source": [
    "May10 = seasonal_df[seasonal_df['Timestamp'] == '2022-05-10']\n",
    "May10"
   ]
  },
  {
   "cell_type": "code",
   "execution_count": 15,
   "id": "d02bb860-ce1d-4337-b323-0d63a7a23700",
   "metadata": {},
   "outputs": [
    {
     "data": {
      "text/html": [
       "<div>\n",
       "<style scoped>\n",
       "    .dataframe tbody tr th:only-of-type {\n",
       "        vertical-align: middle;\n",
       "    }\n",
       "\n",
       "    .dataframe tbody tr th {\n",
       "        vertical-align: top;\n",
       "    }\n",
       "\n",
       "    .dataframe thead th {\n",
       "        text-align: right;\n",
       "    }\n",
       "</style>\n",
       "<table border=\"1\" class=\"dataframe\">\n",
       "  <thead>\n",
       "    <tr style=\"text-align: right;\">\n",
       "      <th></th>\n",
       "      <th>Timestamp</th>\n",
       "      <th>swe</th>\n",
       "      <th>SnowDepth_m</th>\n",
       "      <th>density</th>\n",
       "      <th>day</th>\n",
       "      <th>labels</th>\n",
       "    </tr>\n",
       "  </thead>\n",
       "  <tbody>\n",
       "    <tr>\n",
       "      <th>228</th>\n",
       "      <td>2022-05-17</td>\n",
       "      <td>616.152</td>\n",
       "      <td>1.468091</td>\n",
       "      <td>0.419696</td>\n",
       "      <td>17</td>\n",
       "      <td>May 17</td>\n",
       "    </tr>\n",
       "  </tbody>\n",
       "</table>\n",
       "</div>"
      ],
      "text/plain": [
       "      Timestamp      swe  SnowDepth_m   density  day  labels\n",
       "228  2022-05-17  616.152     1.468091  0.419696   17  May 17"
      ]
     },
     "execution_count": 15,
     "metadata": {},
     "output_type": "execute_result"
    }
   ],
   "source": [
    "May17 = seasonal_df[seasonal_df['Timestamp'] == '2022-05-17']\n",
    "May17"
   ]
  },
  {
   "cell_type": "code",
   "execution_count": null,
   "id": "581ce232-b9a5-49c0-8d5c-4b4ba2f17391",
   "metadata": {},
   "outputs": [],
   "source": []
  }
 ],
 "metadata": {
  "kernelspec": {
   "display_name": "Python 3 (ipykernel)",
   "language": "python",
   "name": "python3"
  },
  "language_info": {
   "codemirror_mode": {
    "name": "ipython",
    "version": 3
   },
   "file_extension": ".py",
   "mimetype": "text/x-python",
   "name": "python",
   "nbconvert_exporter": "python",
   "pygments_lexer": "ipython3",
   "version": "3.11.3"
  }
 },
 "nbformat": 4,
 "nbformat_minor": 5
}
